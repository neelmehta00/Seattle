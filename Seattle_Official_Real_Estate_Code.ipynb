{
  "nbformat": 4,
  "nbformat_minor": 0,
  "metadata": {
    "colab": {
      "name": "Seattle Official Real Estate Code ",
      "provenance": [],
      "include_colab_link": true
    },
    "kernelspec": {
      "name": "python3",
      "display_name": "Python 3"
    }
  },
  "cells": [
    {
      "cell_type": "markdown",
      "metadata": {
        "id": "view-in-github",
        "colab_type": "text"
      },
      "source": [
        "<a href=\"https://colab.research.google.com/github/neelmehta00/Seattle/blob/master/Seattle_Official_Real_Estate_Code.ipynb\" target=\"_parent\"><img src=\"https://colab.research.google.com/assets/colab-badge.svg\" alt=\"Open In Colab\"/></a>"
      ]
    },
    {
      "cell_type": "markdown",
      "metadata": {
        "id": "V7TtrGtltNGb",
        "colab_type": "text"
      },
      "source": [
        "# 1. Importing models, functions to be used"
      ]
    },
    {
      "cell_type": "code",
      "metadata": {
        "id": "waqcCOaHssCu",
        "colab_type": "code",
        "colab": {
          "base_uri": "https://localhost:8080/",
          "height": 34
        },
        "outputId": "ed6b6baf-f7bf-4e17-f8e7-3e2a74eafc0c"
      },
      "source": [
        "monthly_avg = [493.2, 499.1, 503, 507.9, 511.9, 521.9, 521.9, 527.6, 536.1, 551.7, 558.4, 564.4, 565.4, 574.3, 581.8, 581.8, 591.3, 597.7, 604.5, 611.1, 615.9, 621, 632.4, 640.7, 640.7, 649.4, 655.1, 659, 665.5, 676.2, 700.4, 709.6, 717.5, 717.5, 733.9, 741.9, 749.8, 762.9, 775.1, 775.1, 783.5, 786.8, 783.7, 781.2, 781.1, 781.1, 780.8, 777.5, 770.6, 757.1, 757.1, 751.6, 746.5, 741.4, 741.4, 742.1, 744.2, 744.2, 744.3, 747.5, 752.7, 758.3, 762.9, 767.9, 762.7, 758.4, 755.6, 752.3, 751.7, 751.8, 752.2, 752.2]\n",
        "print(len(monthly_avg))"
      ],
      "execution_count": null,
      "outputs": [
        {
          "output_type": "stream",
          "text": [
            "72\n"
          ],
          "name": "stdout"
        }
      ]
    },
    {
      "cell_type": "code",
      "metadata": {
        "id": "KxkDayPPsJJD",
        "colab_type": "code",
        "colab": {
          "base_uri": "https://localhost:8080/",
          "height": 51
        },
        "outputId": "ce8ba733-4b08-4c16-c0e8-2f2cdeeebe21"
      },
      "source": [
        "import pandas as pd\n",
        "import math\n",
        "import random\n",
        "import scipy.stats as stats\n",
        "import numpy as np\n",
        "from sklearn import linear_model\n",
        "import statsmodels.api as sm\n",
        "from sklearn.model_selection import train_test_split\n",
        "R = 6373.0\n",
        "\n",
        "#This is a function for distance(km) between two points given their lat and longs. \n",
        "def LatLongDist(lat1, long1, lat2, long2):\n",
        "  A = math.radians(lat1)\n",
        "  B = math.radians(long1)\n",
        "  C = math.radians(lat2)\n",
        "  D = math.radians(long2)\n",
        "  dlon = D - B\n",
        "  dlat = C - A\n",
        "  a = math.sin(dlat / 2)**2 + math.cos(A) * math.cos(C) * math.sin(dlon / 2)**2\n",
        "  c = 2 * math.atan2(math.sqrt(a), math.sqrt(1-a))\n",
        "  return R * c\n",
        "\n",
        "#Below is non-Traditional scoring function. \n",
        "\n",
        "def score_from_distances(house_to_stores, d1,d2,d3,d4,d5):\n",
        "  count1 = 0\n",
        "  count2 = 0\n",
        "  count3 = 0\n",
        "  count5 = 0 \n",
        "  count7 = 0\n",
        "  score = 10\n",
        "  for dist in house_to_stores:\n",
        "    if dist <= d1:\n",
        "      count1 += 1\n",
        "    if dist <= d2:\n",
        "      count2 += 1\n",
        "    if dist <= d3:\n",
        "      count3 += 1\n",
        "    if dist <= d4:\n",
        "      count5 += 1\n",
        "    if dist <= d5:\n",
        "      count7 += 1\n",
        "  if count1 >= 2:\n",
        "    pass\n",
        "  elif count1 >= 1:\n",
        "    score -= 1\n",
        "  elif count2 >= 2:\n",
        "    score -= 2\n",
        "  elif count2 >= 1:\n",
        "    score -= 3\n",
        "  elif count3 >= 2:\n",
        "    score -= 4\n",
        "  elif count3 >= 1:\n",
        "    score -= 5\n",
        "  elif count5 >= 2:\n",
        "    score -= 6\n",
        "  elif count5 >= 1:\n",
        "    score -= 7\n",
        "  elif count7 >= 2:\n",
        "    score -= 8\n",
        "  elif count7 >= 1:\n",
        "    score -= 9\n",
        "  else: score = 0\n",
        "  return score\n",
        "\n",
        "#Below is the atypical scoring function for inferior stores (fastfood)\n",
        "def score_from_inferiors(house_to_stores, d1,d2,d3,d4,d5):\n",
        "  count1 = 0\n",
        "  count2 = 0\n",
        "  count3 = 0\n",
        "  count4 = 0 \n",
        "  count5 = 0\n",
        "  score = 10\n",
        "  for dist in house_to_stores:\n",
        "    if dist > d5:\n",
        "      count1 += 1\n",
        "    if dist >= d4:\n",
        "      count2 += 1\n",
        "    if dist >= d3:\n",
        "      count3 += 1\n",
        "    if dist >= d2:\n",
        "      count4 += 1\n",
        "    if dist >= d1:\n",
        "      count5 += 1\n",
        "  if count1 == 1:\n",
        "    pass\n",
        "  elif count1 >= 2:\n",
        "    score -= 1\n",
        "  elif count2 == 1:\n",
        "    score -= 2\n",
        "  elif count2 >= 2:\n",
        "    score -= 3\n",
        "  elif count3 == 1:\n",
        "    score -= 4\n",
        "  elif count3 >= 2:\n",
        "    score -= 5\n",
        "  elif count4 == 1:\n",
        "    score -= 6\n",
        "  elif count4 >= 2:\n",
        "    score -= 7\n",
        "  elif count5 == 1:\n",
        "    score -= 8\n",
        "  elif count5 >= 2:\n",
        "    score -= 9\n",
        "  else: score = 0\n",
        "  return score"
      ],
      "execution_count": null,
      "outputs": [
        {
          "output_type": "stream",
          "text": [
            "/usr/local/lib/python3.6/dist-packages/statsmodels/tools/_testing.py:19: FutureWarning: pandas.util.testing is deprecated. Use the functions in the public API at pandas.testing instead.\n",
            "  import pandas.util.testing as tm\n"
          ],
          "name": "stderr"
        }
      ]
    },
    {
      "cell_type": "markdown",
      "metadata": {
        "id": "opfuC9QHvY7Q",
        "colab_type": "text"
      },
      "source": [
        "# 2. Preprocessing Houses(1/3)\n",
        "\n"
      ]
    },
    {
      "cell_type": "code",
      "metadata": {
        "id": "HrIDpBQ7vedP",
        "colab_type": "code",
        "colab": {
          "base_uri": "https://localhost:8080/",
          "height": 51
        },
        "outputId": "15e15267-92d2-4fc9-ffaa-4ca2f902be4d"
      },
      "source": [
        "house_df = pd.read_csv('https://raw.githubusercontent.com/neelmehta00/Seattle/master/Seattle%20-%20NewZest.csv')\n",
        "print(len(house_df))\n",
        "address = house_df[\"Address\"]\n",
        "price = house_df[\"Price\"]\n",
        "link = house_df[\"link\"]\n",
        "link1 = house_df[\"link1\"]\n",
        "listdrop1 = []\n",
        "\n",
        "\n",
        "#FIRST, getting rid of duplicate houses\n",
        "for i in range(len(house_df)): \n",
        "  for j in range(len(house_df)):\n",
        "    if i != j:\n",
        "      if address.iloc[i] == address.iloc[j] and price.iloc[i] == price.iloc[j]:\n",
        "        listdrop1.append(i)\n",
        "\n",
        "\n",
        "#SECOND, house from 1before 2015, 2useless zestimates, 3price is nan\n",
        "for i in range(len(house_df)):\n",
        "    if not(house_df['price2'].iloc[i] > 0 and (int(house_df['date2'].iloc[i][-4:]) >= 2015)): # from before 2015\n",
        "      listdrop1.append(i)\n",
        "    if house_df['ZestYear 2015'].iloc[i] == \"Today\" or house_df['ZestYear 2015'].iloc[i] == \"Listed for\": # useless zestimates\n",
        "      listdrop1.append(i)\n",
        "    if math.isnan(house_df['ZestPrice 2020'].iloc[i]) or math.isnan(house_df['ZestPrice 2015'].iloc[i]): #nan\n",
        "      listdrop1.append(i)\n",
        "\n",
        "      \n",
        "dictOfYear = {}\n",
        "listdrop2 = []\n",
        "for i in range(len(listdrop1)):\n",
        "  year = listdrop1[i]\n",
        "  dictOfYear[year] = listdrop1[i]\n",
        "for key in dictOfYear:\n",
        "  listdrop2.append(key)\n",
        "\n",
        "\n",
        "for item in listdrop2:\n",
        "  house_df.drop([item], axis=0, inplace=True)\n",
        "print(len(house_df))"
      ],
      "execution_count": null,
      "outputs": [
        {
          "output_type": "stream",
          "text": [
            "202\n",
            "150\n"
          ],
          "name": "stdout"
        }
      ]
    },
    {
      "cell_type": "code",
      "metadata": {
        "id": "0eF_Yn8ZGJ4A",
        "colab_type": "code",
        "colab": {
          "base_uri": "https://localhost:8080/",
          "height": 119
        },
        "outputId": "a58394c3-d617-4b59-9419-f26e8ac0e231"
      },
      "source": [
        "house_df.columns"
      ],
      "execution_count": null,
      "outputs": [
        {
          "output_type": "execute_result",
          "data": {
            "text/plain": [
              "Index(['link', 'Address', 'Latitude', 'Longitude', 'Price', '#Bed', '#Bath',\n",
              "       'Square Foot', 'Year Built', 'date1', 'price1', 'date2', 'price2',\n",
              "       'date3', 'price3', 'date4', 'price4', 'date5', 'price5', 'date6',\n",
              "       'price6', 'date7', 'price7', 'absolute', 'link1', 'ZestYear 2015',\n",
              "       'ZestPrice 2015', 'ZestYear 2020', 'ZestPrice 2020'],\n",
              "      dtype='object')"
            ]
          },
          "metadata": {
            "tags": []
          },
          "execution_count": 4
        }
      ]
    },
    {
      "cell_type": "markdown",
      "metadata": {
        "id": "mUe2TjSSlFM_",
        "colab_type": "text"
      },
      "source": [
        "# Preprocessing Houses (2/3)"
      ]
    },
    {
      "cell_type": "code",
      "metadata": {
        "id": "TItoLAlzlEQZ",
        "colab_type": "code",
        "colab": {
          "base_uri": "https://localhost:8080/",
          "height": 156
        },
        "outputId": "7ce17463-9df8-46e4-940b-a28c697daea1"
      },
      "source": [
        "#THIRD, get final_date, final_price, index_list, initial_date, initial_price, and monthly_change\n",
        "\n",
        "index_list = []\n",
        "final_date = []\n",
        "final_price = []\n",
        "absolute_list = []\n",
        "lat_list = []\n",
        "long_list = []\n",
        "count = 0\n",
        "for index, row in house_df.iterrows():\n",
        "  index_list.append(index)\n",
        "  #COME BACK TO THIS!!!!!!!!! (need to account for 2 digit months)\n",
        "  \n",
        "  \n",
        "  if (int(row[\"date1\"][0])) < 5:\n",
        "    final_date.append(row['date1'])\n",
        "    final_price.append(row['price1'])\n",
        "  else:\n",
        "    if int(row['price1']) < int(row['price2']) and int(row['date2'][-4:]) == 2020 and ((int(row[\"date1\"][0])) - (int(row[\"date2\"][0])) < 6):\n",
        "      count = count + 1\n",
        "      final_date.append(row['date2'])\n",
        "      final_price.append(row['price2'])\n",
        "    else:\n",
        "      final_date.append(row['date1'])\n",
        "      final_price.append(row['price1'])\n",
        "\n",
        "  absolute_list.append(row['absolute'])\n",
        "  lat_list.append(row['Latitude'])\n",
        "  long_list.append(row['Longitude'])\n",
        "print(\"# houses affected by corona: \", count)\n",
        "\n",
        "initial_date = []\n",
        "initial_price = []\n",
        "count = 0\n",
        "for index, row in house_df.iterrows():\n",
        "  count = count + 1\n",
        "  if (row['price7'] > 0) and (int(row['date7'][-4:]) >= 2015):\n",
        "    initial_date.append(row['date7'])\n",
        "    initial_price.append(row['price7'])\n",
        "  elif (row['price6'] > 0) and (int(row['date6'][-4:]) >= 2015):\n",
        "    initial_date.append(row['date6'])\n",
        "    initial_price.append(row['price6'])\n",
        "  elif (row['price5'] > 0) and (int(row['date5'][-4:]) >= 2015):\n",
        "    initial_date.append(row['date5'])\n",
        "    initial_price.append(row['price5'])\n",
        "  elif (row['price4'] > 0) and (int(row['date4'][-4:]) >= 2015):\n",
        "    initial_date.append(row['date4'])\n",
        "    initial_price.append(row['price4'])\n",
        "  elif (row['price3'] > 0) and (int(row['date3'][-4:]) >= 2015):\n",
        "    initial_date.append(row['date3'])\n",
        "    initial_price.append(row['price3'])\n",
        "  else:\n",
        "    initial_date.append(row['date2'])\n",
        "    initial_price.append(row['price2'])\n",
        "\n",
        "\n",
        "print(\"house count after first processing: %d\"%len(initial_price))\n",
        "print(\"\")\n",
        "\n",
        "#getting rid of same year/month\n",
        "year_one = house_df[\"ZestPrice 2015\"]\n",
        "year2015 = []\n",
        "for i in range(len(year_one)):\n",
        "  year2015.append(year_one.iloc[i])\n",
        "\n",
        "\n",
        "year_six = house_df['ZestPrice 2020']\n",
        "year2020 = []\n",
        "for i in range(len(year_six)):\n",
        "  year2020.append(year_six.iloc[i])\n",
        "\n",
        "index_list2 = []\n",
        "for i in range(len(initial_date)):\n",
        "  if initial_date[i][-4:] == final_date[i][-4:] and initial_date[i][:2] == final_date[i][:2]:\n",
        "    index_list2.append(i)\n",
        "\n",
        "to_subtract = 0\n",
        "\n",
        "while len(index_list2) > 0:\n",
        "  ind = index_list2.pop(0) - to_subtract\n",
        "  del initial_date[ind]\n",
        "  del initial_price[ind]\n",
        "  del final_date[ind]\n",
        "  del final_price[ind]\n",
        "  del absolute_list[ind]\n",
        "  del lat_list[ind]\n",
        "  del long_list[ind]\n",
        "  del year2015[ind]\n",
        "  del year2020[ind]\n",
        "\n",
        "  to_subtract += 1\n",
        "\n",
        "print(\"house count after getting rid of same year/month: %d\"%len(final_price))\n",
        "print(\"\")\n",
        "\n",
        "#getting monthly change list, the target\n",
        "\n",
        "#mount pleasant average prices\n",
        "monthly_change = []\n",
        "for i in range(len(initial_date)):\n",
        "  try:\n",
        "    initial = (int(initial_date[i][-4:]) - 2015) * 12 + int(initial_date[i][:2])\n",
        "  except:\n",
        "    initial = (int(initial_date[i][-4:]) - 2015) * 12 + int(initial_date[i][:1])\n",
        "\n",
        "  try:\n",
        "    final = (int(final_date[i][-4:]) - 2015) * 12 + int(final_date[i][:2])\n",
        "  except:\n",
        "    final = (int(final_date[i][-4:]) - 2015) * 12 + int(final_date[i][:1])\n",
        "  num_month = final - initial\n",
        "  MP_avg = (((monthly_avg[final]/monthly_avg[initial])**(1/(num_month))) - 1) * 100\n",
        "  house_avg = (((final_price[i]/initial_price[i])**(1/num_month) - 1) * 100)\n",
        "  monthly_change.append(house_avg - MP_avg)\n",
        "\n",
        "print(\"monthly_change: \", monthly_change)\n",
        "print(\"monthly change length: %d\" %len(monthly_change))\n",
        "data = {'house_absolute': absolute_list,\n",
        "        'initial date': initial_date,\n",
        "        'initial price': initial_price,\n",
        "        'final date': final_date,\n",
        "        'final price': final_price,\n",
        "        'monthly change': monthly_change,\n",
        "        'latitude' : lat_list,\n",
        "        'longitude' : long_list,\n",
        "        'year2015': year2015,\n",
        "        'year2020':year2020\n",
        "        }\n",
        "house_df2 = pd.DataFrame(data, columns = ['house_absolute', 'initial date', 'initial price', 'final date', 'final price', 'monthly change', 'latitude', 'longitude',  'year2015', 'year2020'])"
      ],
      "execution_count": null,
      "outputs": [
        {
          "output_type": "stream",
          "text": [
            "# houses affected by corona:  77\n",
            "house count after first processing: 150\n",
            "\n",
            "house count after getting rid of same year/month: 134\n",
            "\n",
            "monthly_change:  [2.7406869308131965, -1.4326330874195103, -0.17674234511142473, 3.9010022645378895, 3.0499948960831413, -0.4591997763676803, 0.6771715067065975, -0.07500828859048347, -0.1230420324351611, 0.19004550775110207, 1.046673441685253, 1.0577972328297047, -3.1021447231393107, 4.424802067262434, -0.5930454971600385, -0.24737294104122398, 1.8005400919069325, 2.3643509193595924, -1.731252529739169, -1.7359319350769953, 1.8648079585168897, 4.255157786813335, -0.11365244240143513, -0.8378008147764238, -0.006117906785574334, -0.12931039456522964, 8.508673491623519, 0.14014404157629556, 27.297079276723213, 0.5103657134640782, 24.47865961081458, 10.714493929444746, -0.3321457358259394, 0.6787486903041318, 0.3515199697442961, 1.3934855002020852, -2.094393947339268, -0.6777133231913091, 142.64608363366884, -1.1933309551554694, 14.448848519154424, 24.36680574460548, -0.021106697971262633, 26.247971341623277, 0.3405376331822696, -0.18561874054134897, -0.5092461606477361, -2.4937873728352877, 0.15405757681814514, 0.5185782225694768, -0.6374181188573136, 0.005567639276971015, 22.395417692698004, -0.2685336508512215, 0.10255477487390863, 0.4950225855839374, 0.15155594699545194, -0.315537723690007, 0.23981364976577435, -93.51798030729564, 179.27402429701417, 64.7977419602703, -2.8756118820868593, 24.753339753997437, 10.460165096848307, 0.0894820203945823, -12.21532655049108, 15.799207069862355, 0.6502235505838172, 72.0400984243025, 0.06078378632987658, 23.42022491118644, -3.31917123801857, 0.5534337631498021, 23.41673077596443, -0.0696772216286945, 0.09246595329839291, 0.2833503970430806, 0.5343333136431427, 0.11629126257500788, 0.10974941116981274, 1.044181665353694, 65.93954460300472, 15.657270352856889, 0.00614452528340248, -0.6038851742561802, 0.08601232990079755, 13.602266265518725, 0.6040905641811145, -2.264315239580039, -4.548232896875404, 0.4721548992381974, -0.5652016788454062, 0.12934511842388474, 0.37228446755877, -0.013303179459889236, -0.17548467959060954, -1.1714508905416476, 9.222259620726225, 0.14533225341912814, 0.1365517711515718, 21.89551509005898, -0.020795341884993768, 0.1710064452718263, 0.16907935278398512, 0.933450011883219, 23.52911135031236, 0.06283314160655529, -0.32461050725067775, 0.3396024974733236, 0.42793409081243183, 0.10461564639780985, 1.0285255673625926, 8.354634481826896, -0.48943937815308924, 0.123596062492215, 18.274325361096253, -0.300078316281982, 0.47635546603252976, 8.26188170169402, 10.673534339540012, 0.3195144820860474, 0.03850279351818031, 25.985324801848144, 46.631415128869165, 20.104299795403733, 23.544480047019736, 0.13921718730101063, -0.3689185670602946, -0.040009964054665836, -0.006639430500099408, 0.13664988091715013, -4.291012290107876, 0.38707989238024876]\n",
            "monthly change length: 134\n"
          ],
          "name": "stdout"
        }
      ]
    },
    {
      "cell_type": "markdown",
      "metadata": {
        "id": "uR7dyjblqebi",
        "colab_type": "text"
      },
      "source": [
        "# Preprocessing Houses (3/3)"
      ]
    },
    {
      "cell_type": "code",
      "metadata": {
        "id": "9NmWMOSkqh_a",
        "colab_type": "code",
        "colab": {
          "base_uri": "https://localhost:8080/",
          "height": 85
        },
        "outputId": "bfcbfa93-52bc-405d-ea65-28e694dad0cf"
      },
      "source": [
        "#THIS IS FOR STATISTICALLY DEFINED OUTLEIRS, BUT THAT LEADS TO TOO MANY OF THEM\n",
        "\n",
        "monthly_change2 = monthly_change\n",
        "monthly_change2.sort()\n",
        "Q1 = monthly_change2[25]\n",
        "Q3 = monthly_change2[74]\n",
        "IQR = Q3 - Q1\n",
        "upper_bound = Q3 + 1.5 * IQR\n",
        "lower_bound = Q1 - 1.5 * IQR\n",
        "\n",
        "listdrop2 = []\n",
        "for index, row in house_df2.iterrows():\n",
        "  if row['monthly change'] > upper_bound or row['monthly change'] < lower_bound:\n",
        "    listdrop2.append(index)\n",
        "print(\"upper: %f\"%upper_bound)\n",
        "print(\"lower: %f\"%lower_bound)\n",
        "\n",
        "print(\"number of statistical outliers in terms of monthly change: %d\"%len(listdrop2))\n",
        "\n",
        "\n",
        "for item in listdrop2:\n",
        "  house_df2.drop([item], axis=0, inplace=True)\n",
        "\n",
        "print(\"house count after getting rid of outliers: %d\" % len(house_df2))"
      ],
      "execution_count": null,
      "outputs": [
        {
          "output_type": "stream",
          "text": [
            "upper: 1.377019\n",
            "lower: -1.357644\n",
            "number of statistical outliers in terms of monthly change: 53\n",
            "house count after getting rid of outliers: 81\n"
          ],
          "name": "stdout"
        }
      ]
    },
    {
      "cell_type": "markdown",
      "metadata": {
        "id": "VoJlrSXorU3Z",
        "colab_type": "text"
      },
      "source": [
        "# 3. Preparing Atypical data and scores for houses\n",
        "\n"
      ]
    },
    {
      "cell_type": "code",
      "metadata": {
        "id": "f2zb60k7rSRb",
        "colab_type": "code",
        "colab": {
          "base_uri": "https://localhost:8080/",
          "height": 51
        },
        "outputId": "e0c4559e-66b7-45dd-b5b1-d03947fc8c29"
      },
      "source": [
        "grocery_df = pd.read_csv(\"https://raw.githubusercontent.com/neelmehta00/Seattle/master/Seattle%20-%20grocery.csv\")\n",
        "coffeeshop_df = pd.read_csv('https://raw.githubusercontent.com/neelmehta00/Seattle/master/Seattle%20-%20Coffee.csv')\n",
        "fastfood_df = pd.read_csv('https://raw.githubusercontent.com/neelmehta00/Seattle/master/Seattle%20-%20Fastfood.csv')\n",
        "parks_df = pd.read_csv('https://raw.githubusercontent.com/neelmehta00/Seattle/master/Seattle%20-%20Parks.csv')\n",
        "gas_df = pd.read_csv('https://raw.githubusercontent.com/neelmehta00/Seattle/master/Seattle%20-%20gas.csv')\n",
        "theater_df = pd.read_csv('https://raw.githubusercontent.com/neelmehta00/Seattle/master/Seattle%20-%20Theater.csv')\n",
        "wholefoods_df = pd.read_csv(\"https://raw.githubusercontent.com/neelmehta00/Seattle/master/Seattle%20-%20wholefoods.csv\")\n",
        "\n",
        "grocery_latlist = grocery_df['Latitude']\n",
        "grocery_longlist = grocery_df['Longitude']\n",
        "coffeeshop_latlist = coffeeshop_df['Latitude']\n",
        "coffeeshop_longlist = coffeeshop_df['Longitude']\n",
        "fastfood_latlist = fastfood_df['Latitude']\n",
        "fastfood_longlist = fastfood_df['Longitude']\n",
        "parks_latlist = parks_df['Latitude']\n",
        "parks_longlist = parks_df['Longitude']\n",
        "gas_latlist = gas_df['Latitude']\n",
        "gas_longlist = gas_df['Longitude']\n",
        "theater_latlist = theater_df['Latitude']\n",
        "theater_longlist = theater_df['Longitude']\n",
        "wholefoods_latlist = wholefoods_df['Latitude']\n",
        "wholefoods_longlist = wholefoods_df['Longitude']\n",
        "\n",
        "house_latlist = house_df2['latitude']\n",
        "house_longlist = house_df2['longitude']\n",
        "\n",
        "categories_latlist = [grocery_latlist, coffeeshop_latlist, fastfood_latlist, parks_latlist, gas_latlist, theater_latlist, wholefoods_latlist]\n",
        "categories_longlist = [grocery_longlist, coffeeshop_longlist, fastfood_longlist, parks_longlist, gas_longlist, theater_longlist, wholefoods_longlist]\n",
        "num_categories = len(categories_latlist)\n",
        "num_houses = len(house_df2)\n",
        "big_list = []\n",
        "\n",
        "grocscorelist = []\n",
        "cofscorelist = []\n",
        "ffscorelist = []\n",
        "parkscorelist = []\n",
        "gasscoreslist = []\n",
        "theaterscorelist = []\n",
        "wfscorelist = []\n",
        "\n",
        "for i in range(num_houses):\n",
        "  house_list = []\n",
        "  for j in range(num_categories):\n",
        "    num_stores = len(categories_latlist[j])\n",
        "    dist_to_stores = [LatLongDist(float(house_latlist.iloc[i]), float(house_longlist.iloc[i]), float(categories_latlist[j].iloc[a]), float(categories_longlist[j].iloc[a])) for a in range(num_stores)]\n",
        "\n",
        "    if j == 0: #grocery\n",
        "      house_list.append(score_from_distances(dist_to_stores, 0.3156, .8429, 1.62413, 3.6811,4.9153))\n",
        "      grocscorelist.append(score_from_distances(dist_to_stores, 0.3156, .8429, 1.62413, 3.6811,4.9153))\n",
        "    elif j == 1: #coffeeshop\n",
        "      house_list.append(score_from_distances(dist_to_stores, .25519, 1.831498, 2.2888, 3.185957,4.0131977))\n",
        "      cofscorelist.append(score_from_distances(dist_to_stores, .25519, 1.831498, 2.2888, 3.185957,4.0131977))\n",
        "    elif j == 2: #fastfood\n",
        "      house_list.append(score_from_distances(dist_to_stores, 0.73365, 1.3504, 2.13828, 3.94257, 4.31543))\n",
        "      ffscorelist.append(score_from_distances(dist_to_stores, 0.73365, 1.3504, 2.13828, 3.94257, 4.31543))\n",
        "    elif j == 3: #parks\n",
        "      house_list.append(score_from_distances(dist_to_stores, .16873, .58971, 2.1504, 2.64146,3.01506))\n",
        "      parkscorelist.append(score_from_distances(dist_to_stores, .16873, .58971, 2.1504, 2.64146,3.01506))\n",
        "    elif j == 4: #gas\n",
        "      house_list.append(score_from_distances(dist_to_stores, .221152, 1.993616, 2.69974, 3.26466, 4.42129))\n",
        "      gasscoreslist.append(score_from_distances(dist_to_stores, .221152, 1.993616, 2.69974, 3.26466, 4.42129))\n",
        "    elif j == 5: #theater\n",
        "      house_list.append(score_from_distances(dist_to_stores, .14915, 1.9465, 2.68493, 3.293786,4.69402))\n",
        "      theaterscorelist.append(score_from_distances(dist_to_stores, .14915, 1.9465, 2.68493, 3.293786,4.69402))\n",
        "    elif j == 6: #wholefoods\n",
        "      house_list.append(score_from_distances(dist_to_stores, .40996, 1.835579, 2.998788, 3.455176, 4.07356))\n",
        "      wfscorelist.append(score_from_distances(dist_to_stores, .40996, 1.835579, 2.998788, 3.455176, 4.07356))\n",
        "  big_list.append(house_list)\n",
        "\n",
        "print(len(wfscorelist))\n",
        "print(len(grocscorelist))"
      ],
      "execution_count": null,
      "outputs": [
        {
          "output_type": "stream",
          "text": [
            "81\n",
            "81\n"
          ],
          "name": "stdout"
        }
      ]
    },
    {
      "cell_type": "markdown",
      "metadata": {
        "id": "AE5rob7jBHzj",
        "colab_type": "text"
      },
      "source": [
        "# 4. Preparing Typical data"
      ]
    },
    {
      "cell_type": "code",
      "metadata": {
        "id": "h-jTJ8F-EzuD",
        "colab_type": "code",
        "colab": {
          "base_uri": "https://localhost:8080/",
          "height": 34
        },
        "outputId": "98a9ff86-9c6e-449e-8b69-892204ad45bd"
      },
      "source": [
        "#list of annul growth rate for zest\n",
        "#percent change for zestimate\n",
        "year_1 = house_df2[\"year2015\"]\n",
        "year_6 = house_df2[\"year2020\"]\n",
        "\n",
        "\n",
        "biglist1 = []\n",
        "for i in range(len(house_df2)):\n",
        "  biglist1.append((((year_6.iloc[i]/year_1.iloc[i])**(0.2)) - 1) * 100)\n",
        "\n",
        "print(len(biglist1))"
      ],
      "execution_count": null,
      "outputs": [
        {
          "output_type": "stream",
          "text": [
            "81\n"
          ],
          "name": "stdout"
        }
      ]
    },
    {
      "cell_type": "code",
      "metadata": {
        "id": "pbx3QhDNBHY-",
        "colab_type": "code",
        "colab": {}
      },
      "source": [
        "#list of annul growth rate for zest\n",
        "#percent change for zestimate\n",
        "year_1 = house_df2[\"year2015\"]\n",
        "year_6 = house_df2[\"year2020\"]\n",
        "\n",
        "avgmpch = 8.73\n",
        "\n",
        "biglist1 = []\n",
        "for i in range(len(house_df2)):\n",
        "  biglist1.append((((year_6.iloc[i]/year_1.iloc[i])**(0.2)) - 1) * 100)\n",
        "\n",
        "listB = [(biglist1[i] - avgmpch) for i in range(len(biglist1))]\n",
        "listB_np = np.array(listB)\n",
        "dez = stats.zscore(listB_np)\n",
        "\n",
        "nonavgscore = [] \n",
        "tempnonavgscore =[]\n",
        "listB = []\n",
        "for i in range(len(biglist1)):\n",
        "\n",
        "    comp = dez[i]\n",
        "    score = 0\n",
        "    if(comp <= -4):\n",
        "      score = 1\n",
        "    elif(comp <= -3):\n",
        "      score = -6\n",
        "    elif(comp <= -2):\n",
        "      score = -3\n",
        "    elif(comp <= -1):\n",
        "      score = -1\n",
        "    elif(comp <= -0.5):\n",
        "      score = -0.5\n",
        "    elif(comp <= 0.5):\n",
        "      score = 0.5\n",
        "    elif(comp <= 1):\n",
        "      score = 1\n",
        "    elif(comp <= 2):\n",
        "      score = 3\n",
        "    elif(comp <= 3):\n",
        "      score = 6\n",
        "    elif(comp <= 4):\n",
        "      score = 10\n",
        "    else:\n",
        "      score = 15\n",
        "    tempnonavgscore.append(score)\n",
        "    listB.append(comp)\n",
        "\n",
        "    \n",
        "traditionalscores = tempnonavgscore\n",
        "for i in range(len(big_list)):\n",
        "  big_list[i].append(tempnonavgscore[i])"
      ],
      "execution_count": null,
      "outputs": []
    },
    {
      "cell_type": "markdown",
      "metadata": {
        "id": "cT4M0itEIC64",
        "colab_type": "text"
      },
      "source": [
        "# 5. Running the Model"
      ]
    },
    {
      "cell_type": "code",
      "metadata": {
        "id": "lDDLt_9tIFF1",
        "colab_type": "code",
        "colab": {
          "base_uri": "https://localhost:8080/",
          "height": 51
        },
        "outputId": "02abf38e-81f5-43a7-b5b2-f1a977c4a4ca"
      },
      "source": [
        "#first define accuracy and prediction funtions\n",
        "def get_accuracy(margin, actualList, predList):\n",
        "  length = len(actualList)\n",
        "  correct = 0\n",
        "  for i in range(length):\n",
        "    if abs(actualList[i] - predList[i]) <= margin:\n",
        "      correct += 1\n",
        "  return (correct / length * 100)\n",
        "def predict(scores_from_categories, intercept, coef_list):\n",
        "    returnVal = 0\n",
        "    for i in range(len(scores_from_categories)):\n",
        "      returnVal += scores_from_categories[i] * coef_list[i]\n",
        "    return (returnVal + intercept)\n",
        "\n",
        "score = 0\n",
        "coef = [0, 0, 0, 0, 0, 0, 0, 0]    \n",
        "for i in range(10000):  \n",
        "  X = big_list\n",
        "  Y = []\n",
        "  for target in house_df2['monthly change']:\n",
        "    Y.append(target)\n",
        "  x_train, x_test, y_train, y_test = train_test_split(X, Y, test_size=0.25)\n",
        "\n",
        "  regr = linear_model.LinearRegression()\n",
        "  regr.fit(x_train, y_train)\n",
        "  \n",
        "  pred_list = []\n",
        "  for score_list in x_test:\n",
        "    pred_list.append(predict(score_list, regr.intercept_, regr.coef_))\n",
        "  \n",
        "  score += get_accuracy(1, y_test, pred_list)\n",
        "  for i in range(len(coef)):\n",
        "    coef[i] += regr.coef_[i]\n",
        "print(\"Accuray: %f\"%(score/10000)) \n",
        "for i in range(len(coef)):\n",
        "  coef[i] = coef[i]/10000\n",
        "print(coef) "
      ],
      "execution_count": null,
      "outputs": [
        {
          "output_type": "stream",
          "text": [
            "Accuray: 91.351905\n",
            "[0.020163873142966738, 0.039886880696445595, -0.0015829455399093701, -0.02378571626653822, -0.06868443507044682, -0.017355018431898208, -0.007709589683263078, -0.006935210367977204]\n"
          ],
          "name": "stdout"
        }
      ]
    },
    {
      "cell_type": "code",
      "metadata": {
        "id": "PrjxTreI2stT",
        "colab_type": "code",
        "colab": {
          "base_uri": "https://localhost:8080/",
          "height": 282
        },
        "outputId": "af9e8667-e375-4b9c-b8e3-0c1e1e97aeb1"
      },
      "source": [
        "score = {\"grocery\": grocscorelist,\n",
        "        \"coffee\": cofscorelist,\n",
        "         \"fastfood\": ffscorelist,\n",
        "         \"park\": parkscorelist,\n",
        "         \"gas\": gasscoreslist,\n",
        "         \"theater\": theaterscorelist,\n",
        "         \"wholefoods\": wfscorelist,\n",
        "         \"traditional\": traditionalscores\n",
        "}\n",
        "realestate = pd.DataFrame(score, columns = [\"grocery\", \"coffee\", \"fastfood\",\"park\", \"gas\", \"theater\", \"wholefoods\", \"traditional\"])\n",
        "#realestate['grocery'].hist(bins = 30, range=[1, 10])\n",
        "#realestate['coffee'].hist(range=[1, 10])\n",
        "realestate['fastfood'].hist(bins = 30, range=[1, 10])\n",
        "#realestate['park'].hist(bins = 30, range=[1, 10])\n",
        "#realestate['gas'].hist(bins = 30, range=[1, 10])\n",
        "#realestate['theater'].hist(bins = 30, range=[1, 10])\n",
        "#realestate['wholefoods'].hist(range=[1, 10])\n",
        "#realestate['traditional'].hist(bins = 30, range=[1, 10])\n"
      ],
      "execution_count": null,
      "outputs": [
        {
          "output_type": "execute_result",
          "data": {
            "text/plain": [
              "<matplotlib.axes._subplots.AxesSubplot at 0x7f7e012f1ef0>"
            ]
          },
          "metadata": {
            "tags": []
          },
          "execution_count": 11
        },
        {
          "output_type": "display_data",
          "data": {
            "image/png": "[encoded data removed]",
            "text/plain": [
              "<Figure size 432x288 with 1 Axes>"
            ]
          },
          "metadata": {
            "tags": [],
            "needs_background": "light"
          }
        }
      ]
    },
    {
      "cell_type": "code",
      "metadata": {
        "id": "Xi09pD5nKu8T",
        "colab_type": "code",
        "colab": {
          "base_uri": "https://localhost:8080/",
          "height": 323
        },
        "outputId": "588bd6b1-4edc-4a75-cfb9-e162ecdc7c59"
      },
      "source": [
        "import random\n",
        "high = 0\n",
        "\n",
        "for a in range(5000):\n",
        "  dist1 = random.uniform(0,1)\n",
        "  dist2 = random.uniform(dist1 + .3,2)\n",
        "  dist3 = random.uniform(dist2 + .3,3)\n",
        "  dist4 = random.uniform(dist3 + .3,4)\n",
        "  dist5 = random.uniform(dist4 + .3 ,5)\n",
        "  score = 0\n",
        "  groc = []\n",
        "  for i in range(num_houses):\n",
        "    groc.append([0])\n",
        "    for j in range(num_categories):\n",
        "      num_stores = len(categories_latlist[j])\n",
        "      dist_to_stores = [LatLongDist(float(house_latlist.iloc[i]), float(house_longlist.iloc[i]), float(categories_latlist[j].iloc[a]), float(categories_longlist[j].iloc[a])) for a in range(num_stores)]\n",
        "      if j == 0: #groc\n",
        "        groc[i][0] = score_from_distances(dist_to_stores, dist1, dist2, dist3,dist4,dist5)\n",
        "  X = groc\n",
        "  Y = []\n",
        "\n",
        "  for target in house_df2['monthly change']:\n",
        "    Y.append(target)\n",
        "  for b in range(5000):\n",
        "    x_train, x_test, y_train, y_test = train_test_split(X, Y, test_size=0.25)\n",
        "\n",
        "    regr = linear_model.LinearRegression()\n",
        "    regr.fit(x_train, y_train)\n",
        "  \n",
        "    pred_list = []\n",
        "    for score_list in x_test:\n",
        "      pred_list.append(predict(score_list, regr.intercept_, regr.coef_))\n",
        "    score += get_accuracy(1, y_test, pred_list)\n",
        "  score = score/5000\n",
        "  if high < score:\n",
        "    print(score)\n",
        "    print(\"groc\", \" \", dist1, \" \", dist2, \" \", dist3, \" \", dist4, \" \",  dist5, \" \" )  \n",
        "    high = score\n",
        " "
      ],
      "execution_count": null,
      "outputs": [
        {
          "output_type": "stream",
          "text": [
            "95.14095238095642\n",
            "groc   0.8537614267174861   1.2357199963542054   1.747100159754727   3.811272206267158   4.93808629764138  \n",
            "95.6666666666706\n",
            "groc   0.18581626629233972   1.0921621737185168   2.934499071623928   3.852627436728964   4.588718735738951  \n",
            "95.76000000000401\n",
            "groc   0.9914728496388197   1.487950557978935   2.6396895448744297   3.2580033918110747   3.635046489580718  \n",
            "95.80285714286143\n",
            "groc   0.00031095177535744867   1.9710879632929927   2.6540413005413113   3.3605272403282043   4.955066422469966  \n",
            "95.85047619048014\n",
            "groc   0.027617475947883885   1.7471630018786526   2.7330085288736177   3.2741862050721067   4.5523243616080125  \n",
            "95.95238095238513\n",
            "groc   0.2689534056543491   1.8436480532852781   2.9866542066047685   3.9971935885561276   4.35490358703913  \n",
            "96.00666666667058\n",
            "groc   0.1693347835732404   1.7029393411536033   2.889615638991712   3.772310903501843   4.546405255866697  \n",
            "96.21428571428964\n",
            "groc   0.1890374638807426   1.5376268601818652   2.3739507829795166   3.764669574482194   4.478497699887286  \n",
            "96.23238095238487\n",
            "groc   0.2089037442571413   1.564215924533019   2.560360428402733   3.8579561281828094   4.439374162503795  \n"
          ],
          "name": "stdout"
        }
      ]
    },
    {
      "cell_type": "code",
      "metadata": {
        "id": "Tid43pSCvllC",
        "colab_type": "code",
        "colab": {
          "base_uri": "https://localhost:8080/",
          "height": 119
        },
        "outputId": "811b5be0-df8d-4596-da5c-18aa6a0ead38"
      },
      "source": [
        "import random\n",
        "high = 0\n",
        "\n",
        "for a in range(5000):\n",
        "  dist1 = random.uniform(0,1)\n",
        "  dist2 = random.uniform(dist1 + .3,2)\n",
        "  dist3 = random.uniform(dist2 + .3,3)\n",
        "  dist4 = random.uniform(dist3 + .3,4)\n",
        "  dist5 = random.uniform(dist4 + .3 ,5)\n",
        "  score = 0\n",
        "  cof = []\n",
        "  for i in range(num_houses):\n",
        "    cof.append([0])\n",
        "    for j in range(num_categories):\n",
        "      num_stores = len(categories_latlist[j])\n",
        "      dist_to_stores = [LatLongDist(float(house_latlist.iloc[i]), float(house_longlist.iloc[i]), float(categories_latlist[j].iloc[a]), float(categories_longlist[j].iloc[a])) for a in range(num_stores)]\n",
        "      if j == 1: #wholefoods\n",
        "        cof[i][0] = score_from_distances(dist_to_stores, dist1, dist2, dist3,dist4,dist5)\n",
        "  X = cof\n",
        "  Y = []\n",
        "\n",
        "  for target in house_df2['monthly change']:\n",
        "    Y.append(target)\n",
        "  for b in range(5000):\n",
        "    x_train, x_test, y_train, y_test = train_test_split(X, Y, test_size=0.25)\n",
        "\n",
        "    regr = linear_model.LinearRegression()\n",
        "    regr.fit(x_train, y_train)\n",
        "  \n",
        "    pred_list = []\n",
        "    for score_list in x_test:\n",
        "      pred_list.append(predict(score_list, regr.intercept_, regr.coef_))\n",
        "    score += get_accuracy(1, y_test, pred_list)\n",
        "  score = score/5000\n",
        "  if high < score:\n",
        "    print(score)\n",
        "    print(\"coffee\", \" \", dist1, \" \", dist2, \" \", dist3, \" \", dist4, \" \",  dist5, \" \" )  \n",
        "    high = score\n",
        " "
      ],
      "execution_count": null,
      "outputs": [
        {
          "output_type": "stream",
          "text": [
            "57.32941176470787\n",
            "coffee   0.13506961042605348   1.7751558495781472   2.257662026887801   2.969525941490635   3.620790789342964  \n",
            "58.063529411766815\n",
            "coffee   0.49318566789114127   1.8474658896928522   2.2575134366203486   2.6121937821896686   4.21573256611033  \n",
            "58.35058823529601\n",
            "coffee   0.19276783298974554   1.9842938758810187   2.464227464342586   3.4588801425310725   3.93648382758907  \n"
          ],
          "name": "stdout"
        }
      ]
    },
    {
      "cell_type": "code",
      "metadata": {
        "id": "NGR3bbu6vz2C",
        "colab_type": "code",
        "colab": {}
      },
      "source": [
        "import random\n",
        "high = 0\n",
        "\n",
        "for a in range(5000):\n",
        "  dist1 = random.uniform(0,1)\n",
        "  dist2 = random.uniform(dist1 + .3,2)\n",
        "  dist3 = random.uniform(dist2 + .3,3)\n",
        "  dist4 = random.uniform(dist3 + .3,4)\n",
        "  dist5 = random.uniform(dist4 + .3 ,5)\n",
        "  score = 0\n",
        "  fast = []\n",
        "  for i in range(num_houses):\n",
        "    fast.append([0])\n",
        "    for j in range(num_categories):\n",
        "      num_stores = len(categories_latlist[j])\n",
        "      dist_to_stores = [LatLongDist(float(house_latlist.iloc[i]), float(house_longlist.iloc[i]), float(categories_latlist[j].iloc[a]), float(categories_longlist[j].iloc[a])) for a in range(num_stores)]\n",
        "      if j == 2: #wholefoods\n",
        "        fast[i][0] = score_from_inferiors(dist_to_stores, dist1, dist2, dist3,dist4,dist5)\n",
        "  X = fast\n",
        "  Y = []\n",
        "\n",
        "  for target in house_df2['monthly change']:\n",
        "    Y.append(target)\n",
        "  for b in range(5000):\n",
        "    x_train, x_test, y_train, y_test = train_test_split(X, Y, test_size=0.25)\n",
        "\n",
        "    regr = linear_model.LinearRegression()\n",
        "    regr.fit(x_train, y_train)\n",
        "  \n",
        "    pred_list = []\n",
        "    for score_list in x_test:\n",
        "      pred_list.append(predict(score_list, regr.intercept_, regr.coef_))\n",
        "    score += get_accuracy(1, y_test, pred_list)\n",
        "  score = score/5000\n",
        "  if high < score:\n",
        "    print(score)\n",
        "    print(\"fast\", \" \", dist1, \" \", dist2, \" \", dist3, \" \", dist4, \" \",  dist5, \" \" )  \n",
        "    high = score\n",
        " "
      ],
      "execution_count": null,
      "outputs": []
    },
    {
      "cell_type": "code",
      "metadata": {
        "id": "5FgVRNHEv8I8",
        "colab_type": "code",
        "colab": {}
      },
      "source": [
        "import random\n",
        "high = 0\n",
        "\n",
        "for a in range(5000):\n",
        "  dist1 = random.uniform(0,1)\n",
        "  dist2 = random.uniform(dist1 + .3,2)\n",
        "  dist3 = random.uniform(dist2 + .3,3)\n",
        "  dist4 = random.uniform(dist3 + .3,4)\n",
        "  dist5 = random.uniform(dist4 + .3 ,5)\n",
        "  score = 0\n",
        "  park = []\n",
        "  for i in range(num_houses):\n",
        "    park.append([0])\n",
        "    for j in range(num_categories):\n",
        "      num_stores = len(categories_latlist[j])\n",
        "      dist_to_stores = [LatLongDist(float(house_latlist.iloc[i]), float(house_longlist.iloc[i]), float(categories_latlist[j].iloc[a]), float(categories_longlist[j].iloc[a])) for a in range(num_stores)]\n",
        "      if j == 3: #wholefoods\n",
        "        park[i][0] = score_from_distances(dist_to_stores, dist1, dist2, dist3,dist4,dist5)\n",
        "  X = park\n",
        "  Y = []\n",
        "\n",
        "  for target in house_df2['monthly change']:\n",
        "    Y.append(target)\n",
        "  for b in range(5000):\n",
        "    x_train, x_test, y_train, y_test = train_test_split(X, Y, test_size=0.25)\n",
        "\n",
        "    regr = linear_model.LinearRegression()\n",
        "    regr.fit(x_train, y_train)\n",
        "  \n",
        "    pred_list = []\n",
        "    for score_list in x_test:\n",
        "      pred_list.append(predict(score_list, regr.intercept_, regr.coef_))\n",
        "    score += get_accuracy(1, y_test, pred_list)\n",
        "  score = score/5000\n",
        "  if high < score:\n",
        "    print(score)\n",
        "    print(\"parks\", \" \", dist1, \" \", dist2, \" \", dist3, \" \", dist4, \" \",  dist5, \" \" )  \n",
        "    high = score\n",
        " "
      ],
      "execution_count": null,
      "outputs": []
    },
    {
      "cell_type": "code",
      "metadata": {
        "id": "bD8X7XH8wLU0",
        "colab_type": "code",
        "colab": {}
      },
      "source": [
        "import random\n",
        "high = 0\n",
        "\n",
        "for a in range(5000):\n",
        "  dist1 = random.uniform(0,1)\n",
        "  dist2 = random.uniform(dist1 + .3,2)\n",
        "  dist3 = random.uniform(dist2 + .3,3)\n",
        "  dist4 = random.uniform(dist3 + .3,4)\n",
        "  dist5 = random.uniform(dist4 + .3 ,5)\n",
        "  score = 0\n",
        "  gas = []\n",
        "  for i in range(num_houses):\n",
        "    gas.append([0])\n",
        "    for j in range(num_categories):\n",
        "      num_stores = len(categories_latlist[j])\n",
        "      dist_to_stores = [LatLongDist(float(house_latlist.iloc[i]), float(house_longlist.iloc[i]), float(categories_latlist[j].iloc[a]), float(categories_longlist[j].iloc[a])) for a in range(num_stores)]\n",
        "      if j == 4: #wholefoods\n",
        "        gas[i][0] = score_from_distances(dist_to_stores, dist1, dist2, dist3,dist4,dist5)\n",
        "  X = gas\n",
        "  Y = []\n",
        "\n",
        "  for target in house_df2['monthly change']:\n",
        "    Y.append(target)\n",
        "  for b in range(5000):\n",
        "    x_train, x_test, y_train, y_test = train_test_split(X, Y, test_size=0.25)\n",
        "\n",
        "    regr = linear_model.LinearRegression()\n",
        "    regr.fit(x_train, y_train)\n",
        "  \n",
        "    pred_list = []\n",
        "    for score_list in x_test:\n",
        "      pred_list.append(predict(score_list, regr.intercept_, regr.coef_))\n",
        "    score += get_accuracy(1, y_test, pred_list)\n",
        "  score = score/5000\n",
        "  if high < score:\n",
        "    print(score)\n",
        "    print(\"gas\", \" \", dist1, \" \", dist2, \" \", dist3, \" \", dist4, \" \",  dist5, \" \" )  \n",
        "    high = score\n",
        " "
      ],
      "execution_count": null,
      "outputs": []
    },
    {
      "cell_type": "code",
      "metadata": {
        "id": "zdChCRklwVGH",
        "colab_type": "code",
        "colab": {}
      },
      "source": [
        "import random\n",
        "high = 0\n",
        "\n",
        "for a in range(5000):\n",
        "  dist1 = random.uniform(0,1)\n",
        "  dist2 = random.uniform(dist1 + .3,2)\n",
        "  dist3 = random.uniform(dist2 + .3,3)\n",
        "  dist4 = random.uniform(dist3 + .3,4)\n",
        "  dist5 = random.uniform(dist4 + .3 ,5)\n",
        "  score = 0\n",
        "  thea = []\n",
        "  for i in range(num_houses):\n",
        "    thea.append([0])\n",
        "    for j in range(num_categories):\n",
        "      num_stores = len(categories_latlist[j])\n",
        "      dist_to_stores = [LatLongDist(float(house_latlist.iloc[i]), float(house_longlist.iloc[i]), float(categories_latlist[j].iloc[a]), float(categories_longlist[j].iloc[a])) for a in range(num_stores)]\n",
        "      if j == 5: #wholefoods\n",
        "        thea[i][0] = score_from_distances(dist_to_stores, dist1, dist2, dist3,dist4,dist5)\n",
        "  X = thea\n",
        "  Y = []\n",
        "\n",
        "  for target in house_df2['monthly change']:\n",
        "    Y.append(target)\n",
        "  for b in range(5000):\n",
        "    x_train, x_test, y_train, y_test = train_test_split(X, Y, test_size=0.25)\n",
        "\n",
        "    regr = linear_model.LinearRegression()\n",
        "    regr.fit(x_train, y_train)\n",
        "  \n",
        "    pred_list = []\n",
        "    for score_list in x_test:\n",
        "      pred_list.append(predict(score_list, regr.intercept_, regr.coef_))\n",
        "    score += get_accuracy(1, y_test, pred_list)\n",
        "  score = score/5000\n",
        "  if high < score:\n",
        "    print(score)\n",
        "    print(\"theater\", \" \", dist1, \" \", dist2, \" \", dist3, \" \", dist4, \" \",  dist5, \" \" )  \n",
        "    high = score\n",
        " "
      ],
      "execution_count": null,
      "outputs": []
    },
    {
      "cell_type": "code",
      "metadata": {
        "id": "kwihD9btwikq",
        "colab_type": "code",
        "colab": {}
      },
      "source": [
        "import random\n",
        "high = 0\n",
        "\n",
        "for a in range(5000):\n",
        "  dist1 = random.uniform(0,1)\n",
        "  dist2 = random.uniform(dist1 + .3,2)\n",
        "  dist3 = random.uniform(dist2 + .3,3)\n",
        "  dist4 = random.uniform(dist3 + .3,4)\n",
        "  dist5 = random.uniform(dist4 + .3 ,5)\n",
        "  score = 0\n",
        "  wholescore = []\n",
        "  for i in range(num_houses):\n",
        "    wholescore.append([0])\n",
        "    for j in range(num_categories):\n",
        "      num_stores = len(categories_latlist[j])\n",
        "      dist_to_stores = [LatLongDist(float(house_latlist.iloc[i]), float(house_longlist.iloc[i]), float(categories_latlist[j].iloc[a]), float(categories_longlist[j].iloc[a])) for a in range(num_stores)]\n",
        "      if j == 6: #wholefoods\n",
        "        wholescore[i][0] = score_from_distances(dist_to_stores, dist1, dist2, dist3,dist4,dist5)\n",
        "  X = wholescore\n",
        "  Y = []\n",
        "\n",
        "  for target in house_df2['monthly change']:\n",
        "    Y.append(target)\n",
        "  for b in range(5000):\n",
        "    x_train, x_test, y_train, y_test = train_test_split(X, Y, test_size=0.25)\n",
        "\n",
        "    regr = linear_model.LinearRegression()\n",
        "    regr.fit(x_train, y_train)\n",
        "  \n",
        "    pred_list = []\n",
        "    for score_list in x_test:\n",
        "      pred_list.append(predict(score_list, regr.intercept_, regr.coef_))\n",
        "    score += get_accuracy(1, y_test, pred_list)\n",
        "  score = score/5000\n",
        "  if high < score:\n",
        "    print(score)\n",
        "    print(\"wholefoods\", \" \", dist1, \" \", dist2, \" \", dist3, \" \", dist4, \" \",  dist5, \" \" )  \n",
        "    high = score\n",
        " \n",
        " "
      ],
      "execution_count": null,
      "outputs": []
    }
  ]
}